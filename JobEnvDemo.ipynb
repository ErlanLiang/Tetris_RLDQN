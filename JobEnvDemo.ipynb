{
 "cells": [
  {
   "cell_type": "code",
   "execution_count": 1,
   "metadata": {},
   "outputs": [
    {
     "name": "stdout",
     "output_type": "stream",
     "text": [
      "pygame 2.5.2 (SDL 2.28.2, Python 3.11.5)\n",
      "Hello from the pygame community. https://www.pygame.org/contribute.html\n"
     ]
    },
    {
     "data": {
      "text/plain": [
       "(array([[[255, 255, 255],\n",
       "         [255, 255, 255],\n",
       "         [255, 255, 255],\n",
       "         ...,\n",
       "         [  0,   0,   0],\n",
       "         [  0,   0,   0],\n",
       "         [200, 200, 200]],\n",
       " \n",
       "        [[255, 255, 255],\n",
       "         [128, 128, 128],\n",
       "         [128, 128, 128],\n",
       "         ...,\n",
       "         [200, 200, 200],\n",
       "         [  0,   0,   0],\n",
       "         [200, 200, 200]],\n",
       " \n",
       "        [[255, 255, 255],\n",
       "         [128, 128, 128],\n",
       "         [128, 128, 128],\n",
       "         ...,\n",
       "         [200, 200, 200],\n",
       "         [  0,   0,   0],\n",
       "         [200, 200, 200]],\n",
       " \n",
       "        ...,\n",
       " \n",
       "        [[255, 255, 255],\n",
       "         [128, 128, 128],\n",
       "         [128, 128, 128],\n",
       "         ...,\n",
       "         [200, 200, 200],\n",
       "         [200, 200, 200],\n",
       "         [200, 200, 200]],\n",
       " \n",
       "        [[255, 255, 255],\n",
       "         [128, 128, 128],\n",
       "         [128, 128, 128],\n",
       "         ...,\n",
       "         [200, 200, 200],\n",
       "         [200, 200, 200],\n",
       "         [200, 200, 200]],\n",
       " \n",
       "        [[255, 255, 255],\n",
       "         [255, 255, 255],\n",
       "         [255, 255, 255],\n",
       "         ...,\n",
       "         [200, 200, 200],\n",
       "         [200, 200, 200],\n",
       "         [200, 200, 200]]], dtype=uint8),\n",
       " None)"
      ]
     },
     "execution_count": 1,
     "metadata": {},
     "output_type": "execute_result"
    }
   ],
   "source": [
    "from JobEnvironment import JobSchedulerEnv\n",
    "env = JobSchedulerEnv(render_mode=\"rgb_array\")\n",
    "env.reset()"
   ]
  },
  {
   "cell_type": "code",
   "execution_count": 2,
   "metadata": {},
   "outputs": [
    {
     "data": {
      "text/plain": [
       "array([[[255, 255, 255],\n",
       "        [255, 255, 255],\n",
       "        [255, 255, 255],\n",
       "        ...,\n",
       "        [  0,   0,   0],\n",
       "        [  0,   0,   0],\n",
       "        [200, 200, 200]],\n",
       "\n",
       "       [[255, 255, 255],\n",
       "        [128, 128, 128],\n",
       "        [128, 128, 128],\n",
       "        ...,\n",
       "        [200, 200, 200],\n",
       "        [  0,   0,   0],\n",
       "        [200, 200, 200]],\n",
       "\n",
       "       [[255, 255, 255],\n",
       "        [128, 128, 128],\n",
       "        [128, 128, 128],\n",
       "        ...,\n",
       "        [200, 200, 200],\n",
       "        [  0,   0,   0],\n",
       "        [200, 200, 200]],\n",
       "\n",
       "       ...,\n",
       "\n",
       "       [[255, 255, 255],\n",
       "        [128, 128, 128],\n",
       "        [128, 128, 128],\n",
       "        ...,\n",
       "        [200, 200, 200],\n",
       "        [200, 200, 200],\n",
       "        [200, 200, 200]],\n",
       "\n",
       "       [[255, 255, 255],\n",
       "        [128, 128, 128],\n",
       "        [128, 128, 128],\n",
       "        ...,\n",
       "        [200, 200, 200],\n",
       "        [200, 200, 200],\n",
       "        [200, 200, 200]],\n",
       "\n",
       "       [[255, 255, 255],\n",
       "        [255, 255, 255],\n",
       "        [255, 255, 255],\n",
       "        ...,\n",
       "        [200, 200, 200],\n",
       "        [200, 200, 200],\n",
       "        [200, 200, 200]]], dtype=uint8)"
      ]
     },
     "execution_count": 2,
     "metadata": {},
     "output_type": "execute_result"
    }
   ],
   "source": [
    "action = int(input(\"Enter block: \"))\n",
    "env.step((action, 0))\n",
    "env.render()"
   ]
  }
 ],
 "metadata": {
  "kernelspec": {
   "display_name": "base",
   "language": "python",
   "name": "python3"
  },
  "language_info": {
   "codemirror_mode": {
    "name": "ipython",
    "version": 3
   },
   "file_extension": ".py",
   "mimetype": "text/x-python",
   "name": "python",
   "nbconvert_exporter": "python",
   "pygments_lexer": "ipython3",
   "version": "3.11.5"
  }
 },
 "nbformat": 4,
 "nbformat_minor": 2
}
